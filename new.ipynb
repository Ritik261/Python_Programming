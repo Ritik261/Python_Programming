{
 "cells": [
  {
   "cell_type": "markdown",
   "metadata": {},
   "source": [
    "# Python Program"
   ]
  },
  {
   "cell_type": "code",
   "execution_count": 11,
   "metadata": {},
   "outputs": [
    {
     "name": "stdout",
     "output_type": "stream",
     "text": [
      "This is Demo File\n",
      "Its second Line\n",
      "now THird Line\n"
     ]
    }
   ],
   "source": [
    "with open(r\"C:\\Users\\Ritik singh\\OneDrive\\Documents\\python programs\\File\\file.txt\",\"r\") as f:\n",
    "    t = f.read()\n",
    "print(t)    "
   ]
  },
  {
   "cell_type": "code",
   "execution_count": 3,
   "metadata": {},
   "outputs": [
    {
     "name": "stdout",
     "output_type": "stream",
     "text": [
      "This is Demo File\n",
      "Its second Line\n",
      "now THird Line\n"
     ]
    }
   ],
   "source": [
    "with open(\"C:\\\\Users\\\\Ritik singh\\\\OneDrive\\\\Documents\\\\python programs\\\\File\\\\file.txt\", \"r\") as f:\n",
    "    content = f.read()\n",
    "print(content)\n"
   ]
  },
  {
   "cell_type": "code",
   "execution_count": 9,
   "metadata": {},
   "outputs": [],
   "source": [
    "f.close()"
   ]
  },
  {
   "cell_type": "code",
   "execution_count": null,
   "metadata": {},
   "outputs": [
    {
     "name": "stdout",
     "output_type": "stream",
     "text": [
      "Delete Everything\n"
     ]
    }
   ],
   "source": [
    "# w - over writes the existing content\n",
    "\n",
    "f = open(r\"C:\\Users\\Ritik singh\\OneDrive\\Documents\\python programs\\File\\file.txt\", \"w\")\n",
    "f.write(\"Delete Everything\")\n",
    "f.close()\n",
    "\n",
    "# r- to read file use r mode\n",
    "f = open(r\"C:\\Users\\Ritik singh\\OneDrive\\Documents\\python programs\\File\\file.txt\", \"r\")\n",
    "print(f.read())\n",
    "f.close()  # always close file"
   ]
  },
  {
   "cell_type": "code",
   "execution_count": 14,
   "metadata": {},
   "outputs": [],
   "source": [
    "import os\n",
    "os.remove(r\"C:\\Users\\Ritik singh\\OneDrive\\Documents\\python programs\\File\\myfile.txt\")"
   ]
  },
  {
   "cell_type": "code",
   "execution_count": 15,
   "metadata": {},
   "outputs": [
    {
     "name": "stdout",
     "output_type": "stream",
     "text": [
      "Folder Not Found\n"
     ]
    }
   ],
   "source": [
    "# For Errors\n",
    "\n",
    "if os.path.exists(\"demo.txt\"):\n",
    "    os.remove(r\"demo.txt\")\n",
    "else:\n",
    "    print(\"Folder Not Found\")    "
   ]
  },
  {
   "cell_type": "code",
   "execution_count": null,
   "metadata": {},
   "outputs": [],
   "source": [
    "# to remove empty folders we use os.rmdir\n",
    "\n",
    "# Non-empty folder cant be deleted unless is made empty\n",
    "os.remove(r\"C:\\Users\\Ritik singh\\OneDrive\\Documents\\python programs\\File\\demo\\check\")\n",
    "os.rmdir(r\"C:\\Users\\Ritik singh\\OneDrive\\Documents\\python programs\\File\\demo\")\n",
    "\n"
   ]
  },
  {
   "cell_type": "code",
   "execution_count": 23,
   "metadata": {},
   "outputs": [
    {
     "name": "stdout",
     "output_type": "stream",
     "text": [
      "17\n"
     ]
    }
   ],
   "source": [
    "# Lambda Fuctions\n",
    "\n",
    "x = lambda a : a+10\n",
    "print(x(7))"
   ]
  },
  {
   "cell_type": "code",
   "execution_count": 27,
   "metadata": {},
   "outputs": [
    {
     "name": "stdout",
     "output_type": "stream",
     "text": [
      "20\n",
      "40\n"
     ]
    }
   ],
   "source": [
    "def myfunc(n):\n",
    "    return lambda a : a*n\n",
    "doubler = myfunc(2)\n",
    "quad = myfunc(4)\n",
    "print(doubler(10))    \n",
    "print(quad(10))    "
   ]
  },
  {
   "cell_type": "code",
   "execution_count": 31,
   "metadata": {},
   "outputs": [
    {
     "name": "stdout",
     "output_type": "stream",
     "text": [
      "5\n",
      "35\n"
     ]
    }
   ],
   "source": [
    "x = lambda a,b: a+b\n",
    "print(x(2,3))\n",
    "\n",
    "x = lambda a,b,c: (a+b)*c\n",
    "print(x(2,3,7))"
   ]
  },
  {
   "cell_type": "code",
   "execution_count": 34,
   "metadata": {},
   "outputs": [
    {
     "name": "stdout",
     "output_type": "stream",
     "text": [
      "Ramlal Babu\n",
      "Rahim Babu\n",
      "kallu Babu\n"
     ]
    }
   ],
   "source": [
    "# functions in python\n",
    "\n",
    "def printName(fname):\n",
    "    print(fname +\" \"+\"Babu\")\n",
    "\n",
    "printName(\"Ramlal\")\n",
    "printName(\"Rahim\")\n",
    "printName(\"kallu\")"
   ]
  },
  {
   "cell_type": "code",
   "execution_count": 35,
   "metadata": {},
   "outputs": [
    {
     "name": "stdout",
     "output_type": "stream",
     "text": [
      "Youngst kid is Babu\n"
     ]
    }
   ],
   "source": [
    "#function using arbitrary arguments\n",
    "\n",
    "def newfunc(*kids):\n",
    "    print(\"Youngst kid is \"+kids[2])\n",
    "newfunc(\"Ram\",\"Shyam\",\"Babu\")"
   ]
  },
  {
   "cell_type": "code",
   "execution_count": 41,
   "metadata": {},
   "outputs": [
    {
     "name": "stdout",
     "output_type": "stream",
     "text": [
      "First prize goes to rick\n"
     ]
    }
   ],
   "source": [
    "# functions using keyword arg\n",
    "# def nextfunc(first, second, third):\n",
    "#     print(\"Second Prize goes to \" + second)\n",
    "\n",
    "def nextfunc(**rank):\n",
    "    print(\"First prize goes to \"+rank[\"third\"])    \n",
    "\n",
    "nextfunc(first= \"Chloe\", second=\"robert\", third= \"rick\")"
   ]
  },
  {
   "cell_type": "code",
   "execution_count": 43,
   "metadata": {},
   "outputs": [
    {
     "name": "stdout",
     "output_type": "stream",
     "text": [
      "My country is India\n",
      "My country is England\n",
      "My country is Britain\n"
     ]
    }
   ],
   "source": [
    "def country(count = \"India\"):\n",
    "    print(\"My country is \"+ count)\n",
    "\n",
    "country()\n",
    "country(\"England\")\n",
    "country(\"Britain\")\n"
   ]
  },
  {
   "cell_type": "code",
   "execution_count": 52,
   "metadata": {},
   "outputs": [
    {
     "name": "stdout",
     "output_type": "stream",
     "text": [
      "apple\n",
      "banana\n",
      "mango\n",
      "Papaya\n"
     ]
    }
   ],
   "source": [
    "def myfun1(fruits):\n",
    "    for x in fruits:\n",
    "        print(x)\n",
    "\n",
    "fruits = [\"apple\", \"banana\", \"mango\", \"Papaya\"]\n",
    "myfun1(fruits)"
   ]
  },
  {
   "cell_type": "code",
   "execution_count": 56,
   "metadata": {},
   "outputs": [
    {
     "name": "stdout",
     "output_type": "stream",
     "text": [
      "Output Value is \n",
      "1\n",
      "3\n",
      "6\n",
      "10\n",
      "15\n",
      "21\n"
     ]
    },
    {
     "data": {
      "text/plain": [
       "21"
      ]
     },
     "execution_count": 56,
     "metadata": {},
     "output_type": "execute_result"
    }
   ],
   "source": [
    "# Recursion\n",
    "\n",
    "def recursion(k):\n",
    "    if(k > 0):\n",
    "        result = k + recursion(k-1)\n",
    "        print(result)\n",
    "    else:\n",
    "        result = 0\n",
    "    return result\n",
    "print(\"Output Value is \")            \n",
    "recursion(6)"
   ]
  },
  {
   "cell_type": "code",
   "execution_count": null,
   "metadata": {},
   "outputs": [],
   "source": []
  }
 ],
 "metadata": {
  "kernelspec": {
   "display_name": "Python 3",
   "language": "python",
   "name": "python3"
  },
  "language_info": {
   "codemirror_mode": {
    "name": "ipython",
    "version": 3
   },
   "file_extension": ".py",
   "mimetype": "text/x-python",
   "name": "python",
   "nbconvert_exporter": "python",
   "pygments_lexer": "ipython3",
   "version": "3.13.0"
  }
 },
 "nbformat": 4,
 "nbformat_minor": 2
}
